{
 "cells": [
  {
   "cell_type": "code",
   "execution_count": 4,
   "id": "4675835b-4d16-4cda-8fdd-a43a3abcb5d7",
   "metadata": {},
   "outputs": [],
   "source": [
    "import pyttsx3\n",
    "import numpy as np\n",
    "\n",
    "text = \"Hellow world\"\n",
    "engine = pyttsx3.init()\n",
    "    \n",
    "engine.setProperty('rate', 175)\n",
    "    \n",
    "voices = engine.getProperty(\"voices\")\n",
    "engine.setProperty('voice', voices[0].id)\n",
    "\n",
    "def speak_once(text):\n",
    "    \n",
    "    engine.say(text)\n",
    "    engine.runAndWait()\n",
    "\n",
    "speak_once(text)"
   ]
  },
  {
   "cell_type": "code",
   "execution_count": 2,
   "id": "caecc9b8-311e-4178-832f-a0260562b4ae",
   "metadata": {},
   "outputs": [],
   "source": [
    "speak_once(text)"
   ]
  },
  {
   "cell_type": "code",
   "execution_count": 5,
   "id": "aec3e639-5455-438a-ba4f-742be7a05ca2",
   "metadata": {},
   "outputs": [],
   "source": [
    "array = np.arange(0,20)"
   ]
  },
  {
   "cell_type": "code",
   "execution_count": 6,
   "id": "91611996-bc88-4dcd-80eb-0c554e13d9c7",
   "metadata": {},
   "outputs": [
    {
     "data": {
      "text/plain": [
       "array([ 0,  1,  2,  3,  4,  5,  6,  7,  8,  9, 10, 11, 12, 13, 14, 15, 16,\n",
       "       17, 18, 19])"
      ]
     },
     "execution_count": 6,
     "metadata": {},
     "output_type": "execute_result"
    }
   ],
   "source": [
    "array"
   ]
  },
  {
   "cell_type": "code",
   "execution_count": null,
   "id": "b9b90c46-655c-4469-9f5b-078bdf5a12f5",
   "metadata": {},
   "outputs": [],
   "source": [
    "[[f for f in np]]"
   ]
  },
  {
   "cell_type": "code",
   "execution_count": null,
   "id": "d6788f1d-8e7f-42bf-b617-4ca50de4bac3",
   "metadata": {},
   "outputs": [],
   "source": []
  }
 ],
 "metadata": {
  "kernelspec": {
   "display_name": "Python 3 (ipykernel)",
   "language": "python",
   "name": "python3"
  },
  "language_info": {
   "codemirror_mode": {
    "name": "ipython",
    "version": 3
   },
   "file_extension": ".py",
   "mimetype": "text/x-python",
   "name": "python",
   "nbconvert_exporter": "python",
   "pygments_lexer": "ipython3",
   "version": "3.10.9"
  }
 },
 "nbformat": 4,
 "nbformat_minor": 5
}
